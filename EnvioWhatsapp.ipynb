{
 "cells": [
  {
   "cell_type": "code",
   "execution_count": 8,
   "metadata": {},
   "outputs": [],
   "source": [
    "from selenium import webdriver\n",
    "from selenium.webdriver.common.keys import Keys\n",
    "import pyautogui as tempoEspera\n",
    "import pyautogui as teclasTeclado\n",
    "from selenium.webdriver.common.by import By\n",
    "from openpyxl import load_workbook\n",
    "nome_arquivo_contatos = \"C:\\\\Users\\\\Micro\\\\Desktop\\\\automacao\\\\Whatsapp\\\\Contatos.xlsx\"\n",
    "planilhaDadosContatos = load_workbook(nome_arquivo_contatos)\n",
    "sheets_selecionada = planilhaDadosContatos['Dados']\n",
    "navegadorChrome = webdriver.Chrome()\n",
    "navegadorChrome.get(\"https://web.whatsapp.com/\")\n",
    "\n",
    "while len(navegadorChrome.find_elements(By.ID, 'side'))<1:\n",
    "    tempoEspera.sleep(3)\n",
    "\n",
    "tempoEspera.sleep(3)\n",
    "\n",
    "for linha in range(2, len(sheets_selecionada['A']) + 1):\n",
    "\n",
    "    nomeContato = sheets_selecionada['A%s' % linha].value\n",
    "    mensagemContato = sheets_selecionada['B%s' % linha].value\n",
    "\n",
    "\n",
    "    navegadorChrome.find_element(By.XPATH, '//*[@id=\"side\"]/div[1]/div/div[2]/div[2]/div/div[1]/p').send_keys(nomeContato)\n",
    "    tempoEspera.sleep(3)\n",
    "\n",
    "    teclasTeclado.press('enter')\n",
    "\n",
    "    tempoEspera.sleep(3)\n",
    "\n",
    "    navegadorChrome.find_element(By.XPATH, '//*[@id=\"main\"]/footer/div[1]/div/span[2]/div/div[2]/div[1]/div/div[1]/p').send_keys(mensagemContato)\n",
    "    tempoEspera.sleep(3)\n",
    "\n",
    "    teclasTeclado.press('enter')\n"
   ]
  }
 ],
 "metadata": {
  "kernelspec": {
   "display_name": "Python 3",
   "language": "python",
   "name": "python3"
  },
  "language_info": {
   "codemirror_mode": {
    "name": "ipython",
    "version": 3
   },
   "file_extension": ".py",
   "mimetype": "text/x-python",
   "name": "python",
   "nbconvert_exporter": "python",
   "pygments_lexer": "ipython3",
   "version": "3.12.2"
  }
 },
 "nbformat": 4,
 "nbformat_minor": 2
}
